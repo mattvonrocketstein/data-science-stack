{
 "metadata": {
  "name": "image_displayhook.ipynb"
 },
 "nbformat": 3,
 "nbformat_minor": 0,
 "worksheets": [
  {
   "cells": [
    {
     "cell_type": "heading",
     "level": 1,
     "metadata": {},
     "source": [
      "IPython display hookery"
     ]
    },
    {
     "cell_type": "markdown",
     "metadata": {},
     "source": [
      "A few niceties to help display visual output as instantly as Matplotlib plots in an IPython notebook. (To run this notebook completely, you'll need the packages `reportlab` and `PIL` to be installed.) "
     ]
    },
    {
     "cell_type": "markdown",
     "metadata": {},
     "source": [
      "Plots generated with Matplotlib are shown immediately in the next cell: "
     ]
    },
    {
     "cell_type": "code",
     "collapsed": false,
     "input": [
      "x = linspace(0, 3*pi, 500)\n",
      "plot(x, sin(x**2))\n",
      "title('A simple chirp');"
     ],
     "language": "python",
     "metadata": {},
     "outputs": [
      {
       "output_type": "display_data",
       "png": "[encoded data removed]"
      }
     ],
     "prompt_number": 1
    },
    {
     "cell_type": "markdown",
     "metadata": {},
     "source": [
      "The same is almost true for bitmaps generated with PIL, but we have to use the convenience function *imshow()*:"
     ]
    },
    {
     "cell_type": "code",
     "collapsed": false,
     "input": [
      "from PIL import Image\n",
      "from PIL.ImageDraw import Draw\n",
      "img = Image.new(\"RGBA\", (100, 100))\n",
      "draw = Draw(img)\n",
      "draw.rectangle(((0,0), (100, 100)), fill=(255, 100, 0))\n",
      "# img.save(\"foo.png\")\n",
      "imshow(numpy.asarray(img)) "
     ],
     "language": "python",
     "metadata": {},
     "outputs": [
      {
       "output_type": "pyout",
       "prompt_number": 2,
       "text": [
        "<matplotlib.image.AxesImage at 0x1050da110>"
       ]
      },
      {
       "output_type": "display_data",
       "png": "[encoded data removed]"
      }
     ],
     "prompt_number": 2
    },
    {
     "cell_type": "markdown",
     "metadata": {},
     "source": [
      "It would be nice to do this even more instinctively, seeing the image right after typing its name, like the interpreter shows the output of the `__repr__()` method, if present, as illustrated in this example: "
     ]
    },
    {
     "cell_type": "code",
     "collapsed": false,
     "input": [
      "from datetime import datetime\n",
      "\n",
      "class Foo(object):\n",
      "    pass\n",
      "\n",
      "class Bar(object):\n",
      "    \n",
      "    def __init__(self):\n",
      "        self.birthdate = datetime.now()\n",
      "    \n",
      "    def __repr__(self):\n",
      "        bd = self.birthdate\n",
      "        args = (self.__class__.__name__, hex(id(self)), bd.isoformat(), bd.strftime(\"%A\"))\n",
      "        return \"%s instance at %s born on %s (a %s)\" % args\n",
      "    \n",
      "f = Foo()\n",
      "b = Bar()"
     ],
     "language": "python",
     "metadata": {},
     "outputs": [],
     "prompt_number": 3
    },
    {
     "cell_type": "code",
     "collapsed": false,
     "input": [
      "f"
     ],
     "language": "python",
     "metadata": {},
     "outputs": [
      {
       "output_type": "pyout",
       "prompt_number": 4,
       "text": [
        "<__main__.Foo at 0x1050bda10>"
       ]
      }
     ],
     "prompt_number": 4
    },
    {
     "cell_type": "code",
     "collapsed": false,
     "input": [
      "b"
     ],
     "language": "python",
     "metadata": {},
     "outputs": [
      {
       "output_type": "pyout",
       "prompt_number": 5,
       "text": [
        "Bar instance at 0x1050bda50 born on 2013-03-14T16:38:24.088012 (a Thursday)"
       ]
      }
     ],
     "prompt_number": 5
    },
    {
     "cell_type": "heading",
     "level": 2,
     "metadata": {},
     "source": [
      "PIL images"
     ]
    },
    {
     "cell_type": "markdown",
     "metadata": {},
     "source": [
      "We would like to have that immediate effect for PIL images, too! So we don't get a nasty text line like this, but the real image:"
     ]
    },
    {
     "cell_type": "code",
     "collapsed": false,
     "input": [
      "from PIL import Image\n",
      "from PIL.ImageDraw import Draw\n",
      "img = Image.new(\"RGBA\", (100, 100))\n",
      "draw = Draw(img)\n",
      "draw.rectangle(((0,0), (100, 100)), fill=(255, 100, 0))\n",
      "# img.save(\"foo.png\")\n",
      "img"
     ],
     "language": "python",
     "metadata": {},
     "outputs": [
      {
       "output_type": "pyout",
       "prompt_number": 6,
       "text": [
        "<PIL.Image.Image image mode=RGBA size=100x100 at 0x1050C50E0>"
       ]
      }
     ],
     "prompt_number": 6
    },
    {
     "cell_type": "markdown",
     "metadata": {},
     "source": [
      "To get this done we just have to write an IPython *display hook* for the required object type (a PIL image) and register it with IPython: "
     ]
    },
    {
     "cell_type": "code",
     "collapsed": false,
     "input": [
      "from io import BytesIO\n",
      "\n",
      "from IPython.core import display\n",
      "from PIL import Image\n",
      "\n",
      "\n",
      "def display_pil_image(im):\n",
      "   \"\"\"Displayhook function for PIL Images, rendered as PNG.\"\"\"\n",
      "\n",
      "   b = BytesIO()\n",
      "   im.save(b, format='png')\n",
      "   data = b.getvalue()\n",
      "\n",
      "   ip_img = display.Image(data=data, format='png', embed=True)\n",
      "   return ip_img._repr_png_()\n",
      "\n",
      "\n",
      "# register display func with PNG formatter:\n",
      "png_formatter = get_ipython().display_formatter.formatters['image/png']\n",
      "dpi = png_formatter.for_type(Image.Image, display_pil_image)"
     ],
     "language": "python",
     "metadata": {},
     "outputs": [],
     "prompt_number": 7
    },
    {
     "cell_type": "markdown",
     "metadata": {},
     "source": [
      "Now we can just enter the identifier of a PIL image in a notebook cell, hit &lt;ENTER&gt; and it is shown in the next cell:"
     ]
    },
    {
     "cell_type": "code",
     "collapsed": false,
     "input": [
      "from PIL import Image\n",
      "from PIL.ImageDraw import Draw\n",
      "img = Image.new(\"RGBA\", (100, 100))\n",
      "draw = Draw(img)\n",
      "draw.rectangle(((0,0), (100, 100)), fill=(255, 100, 0))\n",
      "# img.save(\"foo.png\")\n",
      "img"
     ],
     "language": "python",
     "metadata": {},
     "outputs": [
      {
       "output_type": "pyout",
       "png": "[encoded data removed]",
       "prompt_number": 8,
       "text": [
        "<PIL.Image.Image image mode=RGBA size=100x100 at 0x1050C0248>"
       ]
      }
     ],
     "prompt_number": 8
    },
    {
     "cell_type": "heading",
     "level": 2,
     "metadata": {},
     "source": [
      "And now for something completely different (well...)"
     ]
    },
    {
     "cell_type": "markdown",
     "metadata": {},
     "source": [
      "Graphics can be created in many ways before it is exported into a bitmap or vector format. ReportLab Drawings are one (more) way to do that. If you don't have it installed already, now is the time to do so:"
     ]
    },
    {
     "cell_type": "code",
     "collapsed": false,
     "input": [
      "!pip install reportlab"
     ],
     "language": "python",
     "metadata": {},
     "outputs": [
      {
       "output_type": "stream",
       "stream": "stdout",
       "text": [
        "Requirement already satisfied (use --upgrade to upgrade): reportlab in /opt/lib/python2.7/site-packages\r\n",
        "Cleaning up...\r\n"
       ]
      }
     ],
     "prompt_number": 9
    },
    {
     "cell_type": "markdown",
     "metadata": {},
     "source": [
      "Now, again, IPython knows nothing about these drawings:"
     ]
    },
    {
     "cell_type": "code",
     "collapsed": false,
     "input": [
      "from reportlab.lib import colors\n",
      "from reportlab.graphics import renderPM\n",
      "from reportlab.graphics.shapes import Drawing, Rect\n",
      "\n",
      "drawing = Drawing(100, 100)\n",
      "drawing.add(Rect(0, 0, 100, 100, strokeColor=None, fillColor=colors.orange))\n",
      "\n",
      "drawing"
     ],
     "language": "python",
     "metadata": {},
     "outputs": [
      {
       "output_type": "pyout",
       "prompt_number": 10,
       "text": [
        "<reportlab.graphics.shapes.Drawing instance at 0x105367c20>"
       ]
      }
     ],
     "prompt_number": 10
    },
    {
     "cell_type": "markdown",
     "metadata": {},
     "source": [
      "Sure, we could convert a drawing to a PIL image (or even a bitmap) first, but that means one more function to remember and use (and type). And it will be likely specific to the graphics tool used:"
     ]
    },
    {
     "cell_type": "code",
     "collapsed": false,
     "input": [
      "img = renderPM.drawToPIL(drawing)\n",
      "\n",
      "img"
     ],
     "language": "python",
     "metadata": {},
     "outputs": [
      {
       "output_type": "pyout",
       "png": "[encoded data removed]",
       "prompt_number": 11,
       "text": [
        "<PIL.Image.Image image mode=RGB size=100x100 at 0x1054B5290>"
       ]
      }
     ],
     "prompt_number": 11
    },
    {
     "cell_type": "markdown",
     "metadata": {},
     "source": [
      "Yes, one could define a function similar to `imshow()` for Drawings, but that would not be very helpful if we only want to type an identifier name:"
     ]
    },
    {
     "cell_type": "code",
     "collapsed": false,
     "input": [
      "drshow = lambda d: imshow(numpy.asarray(renderPM.drawToPIL(drawing)))\n",
      "drshow(drawing)"
     ],
     "language": "python",
     "metadata": {},
     "outputs": [
      {
       "output_type": "pyout",
       "prompt_number": 12,
       "text": [
        "<matplotlib.image.AxesImage at 0x1054f84d0>"
       ]
      },
      {
       "output_type": "display_data",
       "png": "[encoded data removed]"
      }
     ],
     "prompt_number": 12
    },
    {
     "cell_type": "markdown",
     "metadata": {},
     "source": [
      "So, again, we simply want to type e.g. `img` and *see* the real thing. And, again, an IPython display hook, now for Reportlab Drawings is what we need:"
     ]
    },
    {
     "cell_type": "code",
     "collapsed": false,
     "input": [
      "from io import BytesIO\n",
      "\n",
      "from IPython.core import display\n",
      "\n",
      "from reportlab.graphics import renderPM\n",
      "from reportlab.graphics.shapes import Drawing\n",
      "\n",
      "\n",
      "def display_reportlab_drawing(drawing):\n",
      "   \"\"\"displayhook function for ReportLab drawing, rendered as PNG\"\"\"\n",
      "\n",
      "   buff = BytesIO()\n",
      "   renderPM.drawToFile(drawing, buff, fmt='png', dpi=72)\n",
      "   data = buff.getvalue()\n",
      "\n",
      "   ip_img = display.Image(data=data, format='png', embed=True)\n",
      "   return ip_img._repr_png_()\n",
      "\n",
      "\n",
      "# register display func with PNG formatter:\n",
      "png_formatter = get_ipython().display_formatter.formatters['image/png']\n",
      "drd = png_formatter.for_type(Drawing, display_reportlab_drawing)\n"
     ],
     "language": "python",
     "metadata": {},
     "outputs": [],
     "prompt_number": 13
    },
    {
     "cell_type": "markdown",
     "metadata": {},
     "source": [
      "And there we go:"
     ]
    },
    {
     "cell_type": "code",
     "collapsed": false,
     "input": [
      "drawing"
     ],
     "language": "python",
     "metadata": {},
     "outputs": [
      {
       "output_type": "pyout",
       "png": "[encoded data removed]",
       "prompt_number": 14,
       "text": [
        "<reportlab.graphics.shapes.Drawing instance at 0x105367c20>"
       ]
      }
     ],
     "prompt_number": 14
    },
    {
     "cell_type": "markdown",
     "metadata": {},
     "source": [
      "BTW, there are some pre-built Reportlab widgets that we can see this way, too. This is illustrated here with some (only slightly modified) code taken from the testsuite:"
     ]
    },
    {
     "cell_type": "code",
     "collapsed": false,
     "input": [
      "from reportlab.graphics.shapes import Drawing, Group\n",
      "from reportlab.graphics.widgets.signsandsymbols import SmileyFace\n",
      "\n",
      "def getDrawing11():\n",
      "\n",
      "    def makeSmiley(x, y, size, color):\n",
      "        \"Make a smiley data item representation.\"\n",
      "        d = size\n",
      "        s = SmileyFace()\n",
      "        s.fillColor = color\n",
      "        s.x = x-d\n",
      "        s.y = y-d\n",
      "        s.size = d*2\n",
      "        return s\n",
      "\n",
      "    D = Drawing(400, 200)\n",
      "    g = Group(transform=(1,0,0,1,0,0))\n",
      "    g.add(makeSmiley(100,100,50,colors.red))\n",
      "    D.add(g)\n",
      "    g = Group(transform=(2,0,0,2,100,-100))\n",
      "    g.add(makeSmiley(100,100,40,colors.blue))\n",
      "    D.add(g)\n",
      "    g = Group(transform=(2,0,0,2,0,0))\n",
      "    return D"
     ],
     "language": "python",
     "metadata": {},
     "outputs": [],
     "prompt_number": 15
    },
    {
     "cell_type": "code",
     "collapsed": false,
     "input": [
      "getDrawing11()"
     ],
     "language": "python",
     "metadata": {},
     "outputs": [
      {
       "output_type": "pyout",
       "png": "[encoded data removed]",
       "prompt_number": 16,
       "text": [
        "<reportlab.graphics.shapes.Drawing instance at 0x10581d560>"
       ]
      }
     ],
     "prompt_number": 16
    },
    {
     "cell_type": "markdown",
     "metadata": {},
     "source": [
      "Happy visualizing!"
     ]
    },
    {
     "cell_type": "heading",
     "level": 2,
     "metadata": {},
     "source": [
      "Exercise"
     ]
    },
    {
     "cell_type": "markdown",
     "metadata": {},
     "source": [
      "Write a display hook for `Color` objects defined in `reportlab.lib.colors`. Try to reuse their existing `__repr__()` method:"
     ]
    },
    {
     "cell_type": "code",
     "collapsed": false,
     "input": [
      "from reportlab.lib.colors import HexColor\n",
      "c = HexColor(\"#ffaa00\")\n",
      "c"
     ],
     "language": "python",
     "metadata": {},
     "outputs": [
      {
       "output_type": "pyout",
       "prompt_number": 17,
       "text": [
        "Color(1,.666667,0,1)"
       ]
      }
     ],
     "prompt_number": 17
    }
   ],
   "metadata": {}
  }
 ]
}